{
 "cells": [
  {
   "cell_type": "code",
   "execution_count": 1,
   "metadata": {},
   "outputs": [
    {
     "name": "stdout",
     "output_type": "stream",
     "text": [
      "pygame 2.6.1 (SDL 2.28.4, Python 3.13.0)\n",
      "Hello from the pygame community. https://www.pygame.org/contribute.html\n"
     ]
    }
   ],
   "source": [
    "from Environments.RandomWalk import make_random_walk, estimate_goal_probability\n",
    "from Environments.FrozenLake import make_frozen_lake\n",
    "\n",
    "from Sarsa.ExpectedSarsa import ExpectedSarsaCV\n",
    "\n",
    "from TD.TDZero import TDZeroCV\n"
   ]
  },
  {
   "cell_type": "markdown",
   "metadata": {},
   "source": [
    "### Environments Estimated MC Success Rate"
   ]
  },
  {
   "cell_type": "code",
   "execution_count": 2,
   "metadata": {},
   "outputs": [],
   "source": [
    "frozen_lake = make_frozen_lake()\n",
    "random_walk = make_random_walk()"
   ]
  },
  {
   "cell_type": "code",
   "execution_count": 3,
   "metadata": {},
   "outputs": [
    {
     "name": "stdout",
     "output_type": "stream",
     "text": [
      "Random Walk\n",
      "Estimated probability of reaching the goal: 0.2747\n",
      "Frozen Lake\n",
      "Estimated probability of reaching the goal: 0.0131\n"
     ]
    }
   ],
   "source": [
    "print(\"Random Walk\")\n",
    "estimate_goal_probability(random_walk)\n",
    "\n",
    "print(\"Frozen Lake\")\n",
    "estimate_goal_probability(frozen_lake)"
   ]
  },
  {
   "cell_type": "markdown",
   "metadata": {},
   "source": [
    "### TD(0) + Random Walk"
   ]
  },
  {
   "cell_type": "code",
   "execution_count": 3,
   "metadata": {},
   "outputs": [
    {
     "name": "stdout",
     "output_type": "stream",
     "text": [
      "Number of permutations: 1\n",
      "Alpha values: [0.003]\n",
      "Gamma values: [0.7]\n",
      "Alpha: 0.0030, Gamma: 0.7000, Average Success: 33.80%\n",
      "Top 5 results:\n"
     ]
    },
    {
     "ename": "IndexError",
     "evalue": "list index out of range",
     "output_type": "error",
     "traceback": [
      "\u001b[0;31m---------------------------------------------------------------------------\u001b[0m",
      "\u001b[0;31mIndexError\u001b[0m                                Traceback (most recent call last)",
      "\u001b[1;32m/Users/dach/dev/td/notebook.ipynb Cell 5\u001b[0m line \u001b[0;36m4\n\u001b[1;32m      <a href='vscode-notebook-cell:/Users/dach/dev/td/notebook.ipynb#W1sZmlsZQ%3D%3D?line=1'>2</a>\u001b[0m cv \u001b[39m=\u001b[39m TDZeroCV(random_walk, {\u001b[39m\"\u001b[39m\u001b[39malpha\u001b[39m\u001b[39m\"\u001b[39m: [\u001b[39m0.003\u001b[39m], \u001b[39m\"\u001b[39m\u001b[39mgamma\u001b[39m\u001b[39m\"\u001b[39m: [\u001b[39m0.7\u001b[39m]})\n\u001b[1;32m      <a href='vscode-notebook-cell:/Users/dach/dev/td/notebook.ipynb#W1sZmlsZQ%3D%3D?line=2'>3</a>\u001b[0m cv\u001b[39m.\u001b[39msearch()\n\u001b[0;32m----> <a href='vscode-notebook-cell:/Users/dach/dev/td/notebook.ipynb#W1sZmlsZQ%3D%3D?line=3'>4</a>\u001b[0m cv\u001b[39m.\u001b[39;49msummary()\n\u001b[1;32m      <a href='vscode-notebook-cell:/Users/dach/dev/td/notebook.ipynb#W1sZmlsZQ%3D%3D?line=4'>5</a>\u001b[0m cv\u001b[39m.\u001b[39mplot_metrics()\n",
      "File \u001b[0;32m~/dev/td/TD/TDZero.py:183\u001b[0m, in \u001b[0;36mTDZeroCV.summary\u001b[0;34m(self)\u001b[0m\n\u001b[1;32m    181\u001b[0m \u001b[39mprint\u001b[39m(\u001b[39m\"\u001b[39m\u001b[39mTop 5 results:\u001b[39m\u001b[39m\"\u001b[39m)\n\u001b[1;32m    182\u001b[0m \u001b[39mfor\u001b[39;00m i, (params, success_rate) \u001b[39min\u001b[39;00m \u001b[39menumerate\u001b[39m(top_5):\n\u001b[0;32m--> 183\u001b[0m   rewards_per_ep \u001b[39m=\u001b[39m np\u001b[39m.\u001b[39mmean(\u001b[39mself\u001b[39;49m\u001b[39m.\u001b[39;49mepisode_rewards[i])\n\u001b[1;32m    184\u001b[0m   steps_per_ep \u001b[39m=\u001b[39m np\u001b[39m.\u001b[39mmean(\u001b[39mself\u001b[39m\u001b[39m.\u001b[39mepisode_steps[i])\n\u001b[1;32m    185\u001b[0m   \u001b[39mprint\u001b[39m(\u001b[39mf\u001b[39m\u001b[39m\"\u001b[39m\u001b[39mRun \u001b[39m\u001b[39m{\u001b[39;00mi\u001b[39m \u001b[39m\u001b[39m+\u001b[39m\u001b[39m \u001b[39m\u001b[39m1\u001b[39m\u001b[39m}\u001b[39;00m\u001b[39m: params=\u001b[39m\u001b[39m{\u001b[39;00mparams\u001b[39m}\u001b[39;00m\u001b[39m, success_rate=\u001b[39m\u001b[39m{\u001b[39;00msuccess_rate\u001b[39m:\u001b[39;00m\u001b[39m.2f\u001b[39m\u001b[39m}\u001b[39;00m\u001b[39m%, \u001b[39m\u001b[39m\"\u001b[39m\n\u001b[1;32m    186\u001b[0m         \u001b[39mf\u001b[39m\u001b[39m\"\u001b[39m\u001b[39mavg_rewards_per_episode=\u001b[39m\u001b[39m{\u001b[39;00mrewards_per_ep\u001b[39m:\u001b[39;00m\u001b[39m.2f\u001b[39m\u001b[39m}\u001b[39;00m\u001b[39m, avg_steps_per_episode=\u001b[39m\u001b[39m{\u001b[39;00msteps_per_ep\u001b[39m:\u001b[39;00m\u001b[39m.2f\u001b[39m\u001b[39m}\u001b[39;00m\u001b[39m\"\u001b[39m)\n",
      "\u001b[0;31mIndexError\u001b[0m: list index out of range"
     ]
    }
   ],
   "source": [
    "# Best results: alpha=0.003, gamma=0.7\n",
    "cv = TDZeroCV(random_walk, {\"alpha\": [0.003], \"gamma\": [0.7]})\n",
    "cv.search()\n",
    "cv.summary()\n",
    "cv.plot_metrics()"
   ]
  },
  {
   "cell_type": "markdown",
   "metadata": {},
   "source": [
    "### TD(0) + Frozen Lake"
   ]
  },
  {
   "cell_type": "code",
   "execution_count": null,
   "metadata": {},
   "outputs": [],
   "source": [
    "# Best results: alpha=0.003, gamma=0.2\n",
    "cv = TDZeroCV(frozen_lake, {\"alpha\": [0.003], \"gamma\": [0.2]})\n",
    "cv.search()\n",
    "cv.summary()\n",
    "cv.plot_metrics()"
   ]
  },
  {
   "cell_type": "markdown",
   "metadata": {},
   "source": [
    "### Expected Sarsa + Frozen Lake"
   ]
  },
  {
   "cell_type": "code",
   "execution_count": 4,
   "metadata": {},
   "outputs": [
    {
     "name": "stdout",
     "output_type": "stream",
     "text": [
      "Testing params: alpha=0.01, epsilon=0.5, decay_rate=0.5, gamma=0.01, Success rate: 0.00%\n",
      "Top 5 results:\n",
      "alpha=0.01, epsilon=0.5, decay_rate=0.5, gamma=0.01, success_rate=0.00%\n"
     ]
    }
   ],
   "source": [
    "# Best alpha=0.01, epsilon=0.5, decay_rate=0.5, gamma=0.01\n",
    "cv = ExpectedSarsaCV(frozen_lake, { \"alpha\": [0.01], \"epsilon\": [0.5], \"decay_rate\": [0.5], \"gamma\": [0.01] })\n",
    "cv.search()\n",
    "cv.summary()"
   ]
  },
  {
   "cell_type": "markdown",
   "metadata": {},
   "source": [
    "### Expected Sarsa + Random Walk"
   ]
  },
  {
   "cell_type": "code",
   "execution_count": 5,
   "metadata": {},
   "outputs": [],
   "source": [
    "# Best alpha=0.01, epsilon=2.0, decay_rate=0.99, gamma=0.95\n",
    "cv = ExpectedSarsaCV(random_walk, { \"alpha\": [0.01], \"epsilon\": [2.0], \"decay_rate\": [0.99], \"gamma\": [0.95] })\n",
    "cv.search(episodes=1000000)\n",
    "cv.summary()"
   ]
  }
 ],
 "metadata": {
  "kernelspec": {
   "display_name": ".venv",
   "language": "python",
   "name": "python3"
  },
  "language_info": {
   "codemirror_mode": {
    "name": "ipython",
    "version": 3
   },
   "file_extension": ".py",
   "mimetype": "text/x-python",
   "name": "python",
   "nbconvert_exporter": "python",
   "pygments_lexer": "ipython3",
   "version": "3.13.0"
  }
 },
 "nbformat": 4,
 "nbformat_minor": 2
}
