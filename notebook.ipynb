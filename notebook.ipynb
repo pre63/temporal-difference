{
 "cells": [
  {
   "cell_type": "code",
   "execution_count": null,
   "metadata": {},
   "outputs": [],
   "source": [
    "from Environments.RandomWalk import make_random_walk, estimate_goal_probability\n",
    "from Environments.FrozenLake import make_frozen_lake\n",
    "from TD.TDZero import TDZeroCV\n",
    "\n",
    "env = make_random_walk()  # Best results: alpha=0.003, gamma=0.7\n",
    "\n",
    "estimate_goal_probability(env)\n",
    "\n",
    "cv = TDZeroCV(env, {\"alpha\": [0.003], \"gamma\": [0.7]})\n",
    "cv.search()\n",
    "cv.summary()\n",
    "\n",
    "env = make_frozen_lake()  # Best results: alpha=0.003, gamma=0.2\n",
    "estimate_goal_probability(env)\n",
    "\n",
    "cv = TDZeroCV(env, {\"alpha\": [0.003], \"gamma\": [0.2]})\n",
    "cv.search()\n",
    "cv.summary()"
   ]
  },
  {
   "cell_type": "code",
   "execution_count": null,
   "metadata": {},
   "outputs": [],
   "source": [
    "from Sarsa.ExpectedSarsa import ExpectedSarsaCV\n",
    "\n",
    "env = make_frozen_lake()\n",
    "estimate_goal_probability(env)\n",
    "action_space = env.action_space.n\n",
    "state_space = env.observation_space.n\n",
    "\n",
    "cv = ExpectedSarsaCV(env, state_space, action_space)\n",
    "\n",
    "# Define hyperparameter grid\n",
    "param_grid = {\n",
    "    \"alpha\": [0.001, 0.01, 0.1, 0.5, 0.99],\n",
    "    \"epsilon\": [0.05, 0.1, 0.5, 0.99, 1.0],\n",
    "    \"decay_rate\": [0.99, 0.995, 1.0, 0.5],\n",
    "    \"gamma\": [0.1, 0.5, 0.99, 0.995, 1.0]\n",
    "}\n",
    "\n",
    "cv_search(cv, param_grid)"
   ]
  },
  {
   "cell_type": "code",
   "execution_count": null,
   "metadata": {},
   "outputs": [],
   "source": [
    "from Sarsa.ExpectedSarsa import ExpectedSarsaCV\n",
    "\n",
    "env = make_random_walk(n_states=19, p_stay=0.0, p_backward=0.5, max_blocks=50)\n",
    "estimate_goal_probability(env)\n",
    "action_space = env.action_space.n\n",
    "state_space = env.observation_space.n\n",
    "\n",
    "cv = ExpectedSarsaCV(env, state_space, action_space)\n",
    "\n",
    "# Define hyperparameter grid\n",
    "param_grid = {\n",
    "    \"alpha\": [0.001, 0.01, 0.1, 0.5, 0.99],\n",
    "    \"epsilon\": [0.05, 0.1, 0.5, 0.99, 1.0],\n",
    "    \"decay_rate\": [0.99, 0.995, 1.0, 0.5],\n",
    "    \"gamma\": [0.1, 0.5, 0.99, 0.995, 1.0]\n",
    "}\n",
    "\n",
    "cv_search(cv, param_grid)"
   ]
  }
 ],
 "metadata": {
  "kernelspec": {
   "display_name": ".venv",
   "language": "python",
   "name": "python3"
  },
  "language_info": {
   "codemirror_mode": {
    "name": "ipython",
    "version": 3
   },
   "file_extension": ".py",
   "mimetype": "text/x-python",
   "name": "python",
   "nbconvert_exporter": "python",
   "pygments_lexer": "ipython3",
   "version": "3.13.0"
  }
 },
 "nbformat": 4,
 "nbformat_minor": 2
}
